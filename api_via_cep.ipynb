{
  "nbformat": 4,
  "nbformat_minor": 0,
  "metadata": {
    "colab": {
      "name": "api_via_cep.ipynb",
      "provenance": [],
      "collapsed_sections": []
    },
    "kernelspec": {
      "name": "python3",
      "display_name": "Python 3"
    },
    "language_info": {
      "name": "python"
    }
  },
  "cells": [
    {
      "cell_type": "markdown",
      "source": [
        "# Requisições na API ViaCep"
      ],
      "metadata": {
        "id": "XZDdtZdUhgPN"
      }
    },
    {
      "cell_type": "code",
      "execution_count": 43,
      "metadata": {
        "id": "rXa1KueLfmyX"
      },
      "outputs": [],
      "source": [
        "# bibliotecas \n",
        "import requests\n",
        "import pandas as pd \n",
        "import json"
      ]
    },
    {
      "cell_type": "code",
      "source": [
        "# Input para obter o CEP\n",
        "cep = input('Digite seu CEP: ')\n",
        "\n",
        "# Tratando o input\n",
        "if len(cep) != 8:\n",
        "   print('ERROR! Informe os 8 digitos do CEP')\n",
        "\n",
        "# if '-' in cep:\n",
        "#   rep_cep = cep.replace('-', '')\n",
        "# print(rep_cep)"
      ],
      "metadata": {
        "colab": {
          "base_uri": "https://localhost:8080/"
        },
        "id": "sCYdfHAribv8",
        "outputId": "e8b9d8c6-d976-4122-887b-75cbcd2d0a27"
      },
      "execution_count": 76,
      "outputs": [
        {
          "output_type": "stream",
          "name": "stdout",
          "text": [
            "Digite seu CEP: 8732872378\n",
            "ERROR! Informe os 8 digitos do CEP\n"
          ]
        }
      ]
    },
    {
      "cell_type": "markdown",
      "source": [
        "# Fazendo a requisição na API através do CEP informado"
      ],
      "metadata": {
        "id": "43Z9kLMJopWw"
      }
    },
    {
      "cell_type": "code",
      "source": [
        "consulta_cep = requests.get(f'https://viacep.com.br/ws/{cep}/json')"
      ],
      "metadata": {
        "id": "uHlw8gHqi6as"
      },
      "execution_count": 7,
      "outputs": []
    },
    {
      "cell_type": "markdown",
      "source": [
        "# Obtendo o endereço no formato JSON(dict)"
      ],
      "metadata": {
        "id": "i_cVIbT5omzO"
      }
    },
    {
      "cell_type": "code",
      "source": [
        "endereco = consulta_cep.json()\n",
        "endereco"
      ],
      "metadata": {
        "colab": {
          "base_uri": "https://localhost:8080/"
        },
        "id": "EuSG96uJjMes",
        "outputId": "43f4029b-4f38-43bd-b2e3-08d1189e74c4"
      },
      "execution_count": 39,
      "outputs": [
        {
          "output_type": "execute_result",
          "data": {
            "text/plain": [
              "{'cep': '06604-220',\n",
              " 'logradouro': 'Rua Sócrates',\n",
              " 'complemento': '',\n",
              " 'bairro': 'Jardim Brotinho',\n",
              " 'localidade': 'Jandira',\n",
              " 'uf': 'SP',\n",
              " 'ibge': '3525003',\n",
              " 'gia': '3980',\n",
              " 'ddd': '11',\n",
              " 'siafi': '6601'}"
            ]
          },
          "metadata": {},
          "execution_count": 39
        }
      ]
    },
    {
      "cell_type": "markdown",
      "source": [
        "# Formatando o JSON para uma visualização melhor"
      ],
      "metadata": {
        "id": "aV-yKd3Kohmb"
      }
    },
    {
      "cell_type": "code",
      "source": [
        "for c, v in endereco.items():\n",
        "  print(f'{c.title()}: {v}')"
      ],
      "metadata": {
        "colab": {
          "base_uri": "https://localhost:8080/"
        },
        "id": "jUEVpxRjj-sg",
        "outputId": "cf23d8fb-14f6-49c0-8d42-713139e095dd"
      },
      "execution_count": 40,
      "outputs": [
        {
          "output_type": "stream",
          "name": "stdout",
          "text": [
            "Cep: 06604-220\n",
            "Logradouro: Rua Sócrates\n",
            "Complemento: \n",
            "Bairro: Jardim Brotinho\n",
            "Localidade: Jandira\n",
            "Uf: SP\n",
            "Ibge: 3525003\n",
            "Gia: 3980\n",
            "Ddd: 11\n",
            "Siafi: 6601\n"
          ]
        }
      ]
    },
    {
      "cell_type": "markdown",
      "source": [
        "# Exibindo apenas alguns dados do dicionario"
      ],
      "metadata": {
        "id": "M2csrd3aoZdR"
      }
    },
    {
      "cell_type": "code",
      "source": [
        "print(f\"CEP: {endereco['cep']}\")\n",
        "print(f\"Logradouro: {endereco['logradouro']}\")\n",
        "print(f\"Cidade: {endereco['localidade']}\")\n",
        "print(f\"Bairro: {endereco['bairro']}\")\n",
        "print(f\"Estado: {endereco['uf']}\")\n",
        "print(f\"DDD: {endereco['ddd']}\")"
      ],
      "metadata": {
        "colab": {
          "base_uri": "https://localhost:8080/"
        },
        "id": "AJMgJ6cRnOdA",
        "outputId": "48b0224d-14c4-4956-e5e9-b6983316e332"
      },
      "execution_count": 41,
      "outputs": [
        {
          "output_type": "stream",
          "name": "stdout",
          "text": [
            "CEP: 06604-220\n",
            "Logradouro: Rua Sócrates\n",
            "Cidade: Jandira\n",
            "Bairro: Jardim Brotinho\n",
            "Estado: SP\n",
            "DDD: 11\n"
          ]
        }
      ]
    },
    {
      "cell_type": "markdown",
      "source": [
        "# Exportando dados no formato JSON"
      ],
      "metadata": {
        "id": "iW-w_JUjwfBU"
      }
    },
    {
      "cell_type": "code",
      "source": [
        "# JSON\n",
        "j = json.dumps(endereco)\n",
        "with open('testeJson.json', 'w') as f:\n",
        "  f.write(j)\n",
        "  f.close()"
      ],
      "metadata": {
        "id": "c4biTO_swjR3"
      },
      "execution_count": 57,
      "outputs": []
    },
    {
      "cell_type": "code",
      "source": [
        "# CSV\n",
        "df = pd.read_json('testeJson.json', orient='index')\n",
        "df.head()\n",
        "\n",
        "df.to_csv('testecsv.csv')"
      ],
      "metadata": {
        "id": "_8uQpX6R0WHH"
      },
      "execution_count": 60,
      "outputs": []
    }
  ]
}