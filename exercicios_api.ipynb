{
  "nbformat": 4,
  "nbformat_minor": 0,
  "metadata": {
    "colab": {
      "name": "exercicios_api.ipynb",
      "provenance": [],
      "collapsed_sections": []
    },
    "kernelspec": {
      "name": "python3",
      "display_name": "Python 3"
    },
    "language_info": {
      "name": "python"
    }
  },
  "cells": [
    {
      "cell_type": "code",
      "execution_count": 2,
      "metadata": {
        "id": "UgfiZUYVzN9n"
      },
      "outputs": [],
      "source": [
        "# Importando as bibliotecas que utilizaremos\n",
        "import pandas as pd\n",
        "import json\n",
        "import requests"
      ]
    },
    {
      "cell_type": "markdown",
      "source": [
        "– Crie um programa que:\n",
        "- solicite o cep de residencia, sem o traco\n",
        "- faca a requisicao na api mostrada em aula\n",
        "- imprima o cep no texto: \"Identificamos que seu cep é da rua {rua identificada na api cep}, confere?\"\n",
        "- solicite uma resposta: sim ou nao\n",
        "- em caso de sim, retorne o texto \"Obrigado, sua entrega foi agendada\"\n",
        "- em caso de nao, retorne o texto \"Por favor, execute a célula e preencha novamente\""
      ],
      "metadata": {
        "id": "ecILqCRq2s0Y"
      }
    },
    {
      "cell_type": "code",
      "source": [
        "cep = input('CEP(Sem traços): ')\n",
        "cep = cep.replace('-', '')  \n",
        "\n",
        "req_cep = requests.get(f'https://viacep.com.br/ws/{cep}/json/')\n",
        "\n",
        "consulta_cep = req_cep.json()\n",
        "resposta = input(f\"Identificamos que seu cep é da {consulta_cep['logradouro']}, confere? \")\n",
        "\n",
        "if resposta == 'sim':\n",
        "  print(\"Obrigado, sua entrega foi agendada.\")\n",
        "elif resposta == 'não':\n",
        "  print('Por favor, execute a celula e preencha novamente.')\n",
        "else:\n",
        "  print('Digite apenas sim ou não.')"
      ],
      "metadata": {
        "colab": {
          "base_uri": "https://localhost:8080/"
        },
        "id": "LiTdvuHW2_q2",
        "outputId": "b05b7377-2d47-4573-ba4e-f7280af1be8c"
      },
      "execution_count": 17,
      "outputs": [
        {
          "output_type": "stream",
          "name": "stdout",
          "text": [
            "CEP(Sem traços): 01136-000\n",
            "Identificamos que seu cep é da Rua do Bosque, confere? sim\n",
            "Obrigado, sua entrega foi agendada.\n"
          ]
        }
      ]
    },
    {
      "cell_type": "markdown",
      "source": [
        "– Crie um programa que:\n",
        "- Faça uma lista com as cotações: USD-BRL, EUR-BRL, BTC-BRL\n",
        "- faca a requisicao na api de moedas, conforme mostrado em aula\n",
        "- armazene cada elemento da lista num objeto\n",
        "- imprima o seguinte texto: A cotação máxima do {} foi de {}\n",
        "- Você deve imprimir o valor para as 3 moedas."
      ],
      "metadata": {
        "id": "g-4xASH33C3z"
      }
    },
    {
      "cell_type": "code",
      "source": [
        "lista_moedas = ['USD-BRL', 'EUR-BRL', 'BTC-BRL']\n",
        "for moeda in lista_moedas:\n",
        "  req = requests.get(f'https://economia.awesomeapi.com.br/last/{moeda}')\n",
        "  cotacao = req.json()\n",
        "  for v in cotacao.values():\n",
        "    print(f\"A cotação máxima do {v['code']} foi de R$ {v['high']}\")"
      ],
      "metadata": {
        "colab": {
          "base_uri": "https://localhost:8080/"
        },
        "id": "CXPrrNlQ3DMW",
        "outputId": "a4f1192b-323c-4b03-c8fe-1685feaf9804"
      },
      "execution_count": 10,
      "outputs": [
        {
          "output_type": "stream",
          "name": "stdout",
          "text": [
            "A cotação máxima do USD foi de R$ 5.1174\n",
            "A cotação máxima do EUR foi de R$ 5.139\n",
            "A cotação máxima do BTC foi de R$ 111.67\n"
          ]
        }
      ]
    },
    {
      "cell_type": "markdown",
      "source": [
        "– Abrir o arquivo dados_exemplo_formatos.txt.\n",
        "- Usando o operador de repetição for, imprima as\n",
        "três primeiras linhas do arquivo.\n",
        "- Feche o arquivo."
      ],
      "metadata": {
        "id": "eldF7u030qpE"
      }
    },
    {
      "cell_type": "code",
      "source": [
        "f = open('/content/sample_data/dados_exemplo_formatos.txt','r', encoding='utf-8')\n",
        "\n",
        "for linha in range(3):\n",
        "  texto = f.readline() \n",
        "  print(texto)\n",
        "\n",
        "f.close()"
      ],
      "metadata": {
        "colab": {
          "base_uri": "https://localhost:8080/"
        },
        "id": "Z0Dbwv-m0khj",
        "outputId": "edad86b7-1348-43c2-f80f-64aa7f081f1f"
      },
      "execution_count": 12,
      "outputs": [
        {
          "output_type": "stream",
          "name": "stdout",
          "text": [
            "0001 BrunoSouza Bahia 028 tecnologia\n",
            "\n",
            "0002 TiagoRibeiro SantaCatarina 030 politica\n",
            "\n",
            "0003 DanielaNunes MinasGerais 051 noticias\n",
            "\n"
          ]
        }
      ]
    },
    {
      "cell_type": "markdown",
      "source": [
        "– Abrir o arquivo dados_exemplo_formatos.txt\n",
        "- Leia as linhas do arquivo e então\n",
        "concatene-as em um único String\n",
        "- Converta o String resultante em uma lista de\n",
        "palavras\n",
        "- Utilize o método split do String para converter um\n",
        "String em uma lista"
      ],
      "metadata": {
        "id": "SkE8IhVq0wFI"
      }
    },
    {
      "cell_type": "code",
      "source": [
        "f = open('/content/sample_data/dados_exemplo_formatos.txt','r', encoding='utf-8')\n",
        "\n",
        "texto = f.readlines() # Retorna linha por linha\n",
        "string = ''\n",
        "for linha in texto:\n",
        "  string+=linha\n",
        "print(string)\n",
        "\n",
        "lista_palavras = string.split(' ')\n",
        "print(lista_palavras)\n",
        "\n",
        "f.close()"
      ],
      "metadata": {
        "colab": {
          "base_uri": "https://localhost:8080/"
        },
        "id": "z2kEsrdH1LQ-",
        "outputId": "159c1680-bc47-4de1-c6e0-10cd637b657b"
      },
      "execution_count": 13,
      "outputs": [
        {
          "output_type": "stream",
          "name": "stdout",
          "text": [
            "0001 BrunoSouza Bahia 028 tecnologia\n",
            "0002 TiagoRibeiro SantaCatarina 030 politica\n",
            "0003 DanielaNunes MinasGerais 051 noticias\n",
            "0004 CarlosJunior SaoPaulo 049 ciencia\n",
            "0005 RicardoMaia RiodeJaneiro 068 fofoca\n",
            "0006 MariaFausto SaoPaulo 025 pets\n",
            "['0001', 'BrunoSouza', 'Bahia', '028', 'tecnologia\\n0002', 'TiagoRibeiro', 'SantaCatarina', '030', 'politica\\n0003', 'DanielaNunes', 'MinasGerais', '051', 'noticias\\n0004', 'CarlosJunior', 'SaoPaulo', '049', 'ciencia\\n0005', 'RicardoMaia', 'RiodeJaneiro', '068', 'fofoca\\n0006', 'MariaFausto', 'SaoPaulo', '025', 'pets']\n"
          ]
        }
      ]
    },
    {
      "cell_type": "markdown",
      "source": [
        "– Abrir o arquivo dados_exemplo_formatos.csv com Pandas\n",
        "- Mostrar as 5 primeiras observações\n",
        "- Exportar as colunas para lista\n",
        "- Filtrar as colunas id, naturalidade e cluster da lista criada, concatenar e separando por vírgulas"
      ],
      "metadata": {
        "id": "DgR_j3r51V-I"
      }
    },
    {
      "cell_type": "code",
      "source": [
        "df = pd.read_csv('/content/sample_data/dados_exemplo_formatos.csv', delimiter=';')\n",
        "df.head()"
      ],
      "metadata": {
        "colab": {
          "base_uri": "https://localhost:8080/",
          "height": 206
        },
        "id": "-83O8HUE2D3s",
        "outputId": "3c922856-cf45-4ad6-8e6d-30644865bfc7"
      },
      "execution_count": 14,
      "outputs": [
        {
          "output_type": "execute_result",
          "data": {
            "text/plain": [
              "   id           nome    naturalidade  idade     cluster\n",
              "0   1    Bruno Souza           Bahia     28  tecnologia\n",
              "1   2  Tiago Ribeiro  Santa Catarina     30    politica\n",
              "2   3  Daniela Nunes    Minas Gerais     51    noticias\n",
              "3   4  Carlos Junior       Sao Paulo     49     ciencia\n",
              "4   5   Ricardo Maia  Rio de Janeiro     68      fofoca"
            ],
            "text/html": [
              "\n",
              "  <div id=\"df-a77b8465-6217-45ee-aa39-ee40e2ea3064\">\n",
              "    <div class=\"colab-df-container\">\n",
              "      <div>\n",
              "<style scoped>\n",
              "    .dataframe tbody tr th:only-of-type {\n",
              "        vertical-align: middle;\n",
              "    }\n",
              "\n",
              "    .dataframe tbody tr th {\n",
              "        vertical-align: top;\n",
              "    }\n",
              "\n",
              "    .dataframe thead th {\n",
              "        text-align: right;\n",
              "    }\n",
              "</style>\n",
              "<table border=\"1\" class=\"dataframe\">\n",
              "  <thead>\n",
              "    <tr style=\"text-align: right;\">\n",
              "      <th></th>\n",
              "      <th>id</th>\n",
              "      <th>nome</th>\n",
              "      <th>naturalidade</th>\n",
              "      <th>idade</th>\n",
              "      <th>cluster</th>\n",
              "    </tr>\n",
              "  </thead>\n",
              "  <tbody>\n",
              "    <tr>\n",
              "      <th>0</th>\n",
              "      <td>1</td>\n",
              "      <td>Bruno Souza</td>\n",
              "      <td>Bahia</td>\n",
              "      <td>28</td>\n",
              "      <td>tecnologia</td>\n",
              "    </tr>\n",
              "    <tr>\n",
              "      <th>1</th>\n",
              "      <td>2</td>\n",
              "      <td>Tiago Ribeiro</td>\n",
              "      <td>Santa Catarina</td>\n",
              "      <td>30</td>\n",
              "      <td>politica</td>\n",
              "    </tr>\n",
              "    <tr>\n",
              "      <th>2</th>\n",
              "      <td>3</td>\n",
              "      <td>Daniela Nunes</td>\n",
              "      <td>Minas Gerais</td>\n",
              "      <td>51</td>\n",
              "      <td>noticias</td>\n",
              "    </tr>\n",
              "    <tr>\n",
              "      <th>3</th>\n",
              "      <td>4</td>\n",
              "      <td>Carlos Junior</td>\n",
              "      <td>Sao Paulo</td>\n",
              "      <td>49</td>\n",
              "      <td>ciencia</td>\n",
              "    </tr>\n",
              "    <tr>\n",
              "      <th>4</th>\n",
              "      <td>5</td>\n",
              "      <td>Ricardo Maia</td>\n",
              "      <td>Rio de Janeiro</td>\n",
              "      <td>68</td>\n",
              "      <td>fofoca</td>\n",
              "    </tr>\n",
              "  </tbody>\n",
              "</table>\n",
              "</div>\n",
              "      <button class=\"colab-df-convert\" onclick=\"convertToInteractive('df-a77b8465-6217-45ee-aa39-ee40e2ea3064')\"\n",
              "              title=\"Convert this dataframe to an interactive table.\"\n",
              "              style=\"display:none;\">\n",
              "        \n",
              "  <svg xmlns=\"http://www.w3.org/2000/svg\" height=\"24px\"viewBox=\"0 0 24 24\"\n",
              "       width=\"24px\">\n",
              "    <path d=\"M0 0h24v24H0V0z\" fill=\"none\"/>\n",
              "    <path d=\"M18.56 5.44l.94 2.06.94-2.06 2.06-.94-2.06-.94-.94-2.06-.94 2.06-2.06.94zm-11 1L8.5 8.5l.94-2.06 2.06-.94-2.06-.94L8.5 2.5l-.94 2.06-2.06.94zm10 10l.94 2.06.94-2.06 2.06-.94-2.06-.94-.94-2.06-.94 2.06-2.06.94z\"/><path d=\"M17.41 7.96l-1.37-1.37c-.4-.4-.92-.59-1.43-.59-.52 0-1.04.2-1.43.59L10.3 9.45l-7.72 7.72c-.78.78-.78 2.05 0 2.83L4 21.41c.39.39.9.59 1.41.59.51 0 1.02-.2 1.41-.59l7.78-7.78 2.81-2.81c.8-.78.8-2.07 0-2.86zM5.41 20L4 18.59l7.72-7.72 1.47 1.35L5.41 20z\"/>\n",
              "  </svg>\n",
              "      </button>\n",
              "      \n",
              "  <style>\n",
              "    .colab-df-container {\n",
              "      display:flex;\n",
              "      flex-wrap:wrap;\n",
              "      gap: 12px;\n",
              "    }\n",
              "\n",
              "    .colab-df-convert {\n",
              "      background-color: #E8F0FE;\n",
              "      border: none;\n",
              "      border-radius: 50%;\n",
              "      cursor: pointer;\n",
              "      display: none;\n",
              "      fill: #1967D2;\n",
              "      height: 32px;\n",
              "      padding: 0 0 0 0;\n",
              "      width: 32px;\n",
              "    }\n",
              "\n",
              "    .colab-df-convert:hover {\n",
              "      background-color: #E2EBFA;\n",
              "      box-shadow: 0px 1px 2px rgba(60, 64, 67, 0.3), 0px 1px 3px 1px rgba(60, 64, 67, 0.15);\n",
              "      fill: #174EA6;\n",
              "    }\n",
              "\n",
              "    [theme=dark] .colab-df-convert {\n",
              "      background-color: #3B4455;\n",
              "      fill: #D2E3FC;\n",
              "    }\n",
              "\n",
              "    [theme=dark] .colab-df-convert:hover {\n",
              "      background-color: #434B5C;\n",
              "      box-shadow: 0px 1px 3px 1px rgba(0, 0, 0, 0.15);\n",
              "      filter: drop-shadow(0px 1px 2px rgba(0, 0, 0, 0.3));\n",
              "      fill: #FFFFFF;\n",
              "    }\n",
              "  </style>\n",
              "\n",
              "      <script>\n",
              "        const buttonEl =\n",
              "          document.querySelector('#df-a77b8465-6217-45ee-aa39-ee40e2ea3064 button.colab-df-convert');\n",
              "        buttonEl.style.display =\n",
              "          google.colab.kernel.accessAllowed ? 'block' : 'none';\n",
              "\n",
              "        async function convertToInteractive(key) {\n",
              "          const element = document.querySelector('#df-a77b8465-6217-45ee-aa39-ee40e2ea3064');\n",
              "          const dataTable =\n",
              "            await google.colab.kernel.invokeFunction('convertToInteractive',\n",
              "                                                     [key], {});\n",
              "          if (!dataTable) return;\n",
              "\n",
              "          const docLinkHtml = 'Like what you see? Visit the ' +\n",
              "            '<a target=\"_blank\" href=https://colab.research.google.com/notebooks/data_table.ipynb>data table notebook</a>'\n",
              "            + ' to learn more about interactive tables.';\n",
              "          element.innerHTML = '';\n",
              "          dataTable['output_type'] = 'display_data';\n",
              "          await google.colab.output.renderOutput(dataTable, element);\n",
              "          const docLink = document.createElement('div');\n",
              "          docLink.innerHTML = docLinkHtml;\n",
              "          element.appendChild(docLink);\n",
              "        }\n",
              "      </script>\n",
              "    </div>\n",
              "  </div>\n",
              "  "
            ]
          },
          "metadata": {},
          "execution_count": 14
        }
      ]
    },
    {
      "cell_type": "code",
      "source": [
        "lista = df.columns\n",
        "list(lista)\n",
        "\n",
        "print(f'{lista[0]}, {lista[2]}, {lista[4]}')"
      ],
      "metadata": {
        "colab": {
          "base_uri": "https://localhost:8080/"
        },
        "id": "q-AAV-dc2nxg",
        "outputId": "4d29f5e7-7a39-4edc-daf5-5c986d39cc31"
      },
      "execution_count": 15,
      "outputs": [
        {
          "output_type": "stream",
          "name": "stdout",
          "text": [
            "id, naturalidade, cluster\n"
          ]
        }
      ]
    }
  ]
}