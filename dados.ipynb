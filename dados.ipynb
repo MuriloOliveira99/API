{
 "cells": [
  {
   "cell_type": "code",
   "execution_count": 1,
   "metadata": {},
   "outputs": [],
   "source": [
    "import pandas as pd\n",
    "from io import open\n",
    "import csv \n",
    "import openpyxl\n",
    "import sqlite3 \n",
    "import json\n",
    "from IPython.display import Image as img\n",
    "import requests \n",
    "from bs4 import BeautifulSoup"
   ]
  },
  {
   "cell_type": "code",
   "execution_count": 3,
   "metadata": {},
   "outputs": [],
   "source": [
    "pd.read_csv('./dados_exemplo_formatos.csv', sep=\";\", encoding=\"UTF-8\").to_json('dados_exemplo_formatos.json')"
   ]
  },
  {
   "cell_type": "code",
   "execution_count": 9,
   "metadata": {},
   "outputs": [],
   "source": [
    "# WEB SERVICES\n",
    "# REQUISIÇÃO\n",
    "\n",
    "cep = input(\"Digite seu CEP (sem traços)\")"
   ]
  },
  {
   "cell_type": "code",
   "execution_count": 10,
   "metadata": {},
   "outputs": [],
   "source": [
    "requi = requests.get(f'http://viacep.com.br/ws/{cep}/json')"
   ]
  },
  {
   "cell_type": "code",
   "execution_count": 17,
   "metadata": {},
   "outputs": [
    {
     "name": "stdout",
     "output_type": "stream",
     "text": [
      "{\n",
      "  \"cep\": \"05661-050\",\n",
      "  \"logradouro\": \"Rua Itajubaquara\",\n",
      "  \"complemento\": \"\",\n",
      "  \"bairro\": \"Paraisópolis\",\n",
      "  \"localidade\": \"São Paulo\",\n",
      "  \"uf\": \"SP\",\n",
      "  \"ibge\": \"3550308\",\n",
      "  \"gia\": \"1004\",\n",
      "  \"ddd\": \"11\",\n",
      "  \"siafi\": \"7107\"\n",
      "}\n"
     ]
    }
   ],
   "source": [
    "print(requi.text)"
   ]
  },
  {
   "cell_type": "code",
   "execution_count": 34,
   "metadata": {},
   "outputs": [
    {
     "name": "stdout",
     "output_type": "stream",
     "text": [
      "{'cep': '05661-050', 'logradouro': 'Rua Itajubaquara', 'complemento': '', 'bairro': 'Paraisópolis', 'localidade': 'São Paulo', 'uf': 'SP', 'ibge': '3550308', 'gia': '1004', 'ddd': '11', 'siafi': '7107'}\n",
      "<class 'dict'>\n",
      "cep: 05661-050\n",
      "logradouro: Rua Itajubaquara\n",
      "complemento: \n",
      "bairro: Paraisópolis\n",
      "localidade: São Paulo\n",
      "uf: SP\n",
      "ibge: 3550308\n",
      "gia: 1004\n",
      "ddd: 11\n",
      "siafi: 7107\n"
     ]
    }
   ],
   "source": [
    "# Converter para json/dict\n",
    "json_data = json.loads(requi.text)\n",
    "print(json_data)\n",
    "print(type(json_data))\n"
   ]
  },
  {
   "cell_type": "code",
   "execution_count": 27,
   "metadata": {},
   "outputs": [],
   "source": [
    "# REQUISICAO DE COTACAO DE MOEDAS\n",
    "moeda = input(\"Digite qual moeda deseja: (formato: USD-BRL, EUR-BRL, BTC-BRL)\")"
   ]
  },
  {
   "cell_type": "code",
   "execution_count": 28,
   "metadata": {},
   "outputs": [],
   "source": [
    "end = 'http://economia.awesomeapi.com.br/json/last/{}'.format(moeda)"
   ]
  },
  {
   "cell_type": "code",
   "execution_count": 29,
   "metadata": {},
   "outputs": [
    {
     "name": "stdout",
     "output_type": "stream",
     "text": [
      "{\"USDBRL\":{\"code\":\"USD\",\"codein\":\"BRL\",\"name\":\"Dólar Americano/Real Brasileiro\",\"high\":\"5.1685\",\"low\":\"5.1681\",\"varBid\":\"0.0011\",\"pctChange\":\"0.02\",\"bid\":\"5.168\",\"ask\":\"5.169\",\"timestamp\":\"1660861501\",\"create_date\":\"2022-08-18 19:25:01\"}}\n"
     ]
    }
   ],
   "source": [
    "requi2 = requests.get(end)\n",
    "print(requi2.text)"
   ]
  },
  {
   "cell_type": "markdown",
   "metadata": {},
   "source": [
    "# JSON"
   ]
  },
  {
   "cell_type": "code",
   "execution_count": 33,
   "metadata": {},
   "outputs": [
    {
     "data": {
      "text/plain": [
       "{'id': {'0': 1, '1': 2, '2': 3, '3': 4, '4': 5, '5': 6},\n",
       " 'nome': {'0': ' BrunoSouza',\n",
       "  '1': ' TiagoRibeiro',\n",
       "  '2': ' DanielNunes',\n",
       "  '3': ' CarlosJunior',\n",
       "  '4': 'RicardoMaia',\n",
       "  '5': ' MariaFausto'},\n",
       " 'naturalidade': {'0': ' Bahia',\n",
       "  '1': ' SantaCatarina',\n",
       "  '2': ' MinasGerais',\n",
       "  '3': ' SaoPaulo',\n",
       "  '4': ' RiodeJaneiro',\n",
       "  '5': ' SaoPaulo'},\n",
       " 'idade': {'0': 28, '1': 30, '2': 51, '3': 49, '4': 68, '5': 25},\n",
       " 'cluster': {'0': ' tecnologia',\n",
       "  '1': ' politica',\n",
       "  '2': ' noticias',\n",
       "  '3': ' ciencia',\n",
       "  '4': ' fofoca',\n",
       "  '5': ' pets'}}"
      ]
     },
     "execution_count": 33,
     "metadata": {},
     "output_type": "execute_result"
    }
   ],
   "source": [
    "f = open('./dados_exemplo_formatos.json')\n",
    "dados = json.load(f)\n",
    "dados"
   ]
  },
  {
   "cell_type": "code",
   "execution_count": 35,
   "metadata": {},
   "outputs": [
    {
     "name": "stdout",
     "output_type": "stream",
     "text": [
      "O cluster  tecnologia foi processado\n",
      "O cluster  politica foi processado\n",
      "O cluster  noticias foi processado\n",
      "O cluster  ciencia foi processado\n",
      "O cluster  fofoca foi processado\n",
      "O cluster  pets foi processado\n"
     ]
    }
   ],
   "source": [
    "for i in dados['cluster'].values():\n",
    "    print(f'O cluster {i} foi processado')"
   ]
  },
  {
   "cell_type": "code",
   "execution_count": 36,
   "metadata": {},
   "outputs": [],
   "source": [
    "f.close()"
   ]
  },
  {
   "cell_type": "code",
   "execution_count": 37,
   "metadata": {},
   "outputs": [
    {
     "name": "stdout",
     "output_type": "stream",
     "text": [
      "CPU times: total: 0 ns\n",
      "Wall time: 2 ms\n"
     ]
    },
    {
     "data": {
      "text/plain": [
       "{'id': {'0': 1, '1': 2, '2': 3, '3': 4, '4': 5, '5': 6},\n",
       " 'nome': {'0': ' BrunoSouza',\n",
       "  '1': ' TiagoRibeiro',\n",
       "  '2': ' DanielNunes',\n",
       "  '3': ' CarlosJunior',\n",
       "  '4': 'RicardoMaia',\n",
       "  '5': ' MariaFausto'},\n",
       " 'naturalidade': {'0': ' Bahia',\n",
       "  '1': ' SantaCatarina',\n",
       "  '2': ' MinasGerais',\n",
       "  '3': ' SaoPaulo',\n",
       "  '4': ' RiodeJaneiro',\n",
       "  '5': ' SaoPaulo'},\n",
       " 'idade': {'0': 28, '1': 30, '2': 51, '3': 49, '4': 68, '5': 25},\n",
       " 'cluster': {'0': ' tecnologia',\n",
       "  '1': ' politica',\n",
       "  '2': ' noticias',\n",
       "  '3': ' ciencia',\n",
       "  '4': ' fofoca',\n",
       "  '5': ' pets'}}"
      ]
     },
     "execution_count": 37,
     "metadata": {},
     "output_type": "execute_result"
    }
   ],
   "source": [
    "%%time \n",
    "f = open('./dados_exemplo_formatos.json')\n",
    "json.load(f)"
   ]
  }
 ],
 "metadata": {
  "kernelspec": {
   "display_name": "Python 3.10.5 64-bit",
   "language": "python",
   "name": "python3"
  },
  "language_info": {
   "codemirror_mode": {
    "name": "ipython",
    "version": 3
   },
   "file_extension": ".py",
   "mimetype": "text/x-python",
   "name": "python",
   "nbconvert_exporter": "python",
   "pygments_lexer": "ipython3",
   "version": "3.10.5"
  },
  "orig_nbformat": 4,
  "vscode": {
   "interpreter": {
    "hash": "26de051ba29f2982a8de78e945f0abaf191376122a1563185a90213a26c5da77"
   }
  }
 },
 "nbformat": 4,
 "nbformat_minor": 2
}
