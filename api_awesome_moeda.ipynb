{
  "nbformat": 4,
  "nbformat_minor": 0,
  "metadata": {
    "colab": {
      "name": "api_awesome_moeda.ipynb",
      "provenance": [],
      "collapsed_sections": []
    },
    "kernelspec": {
      "name": "python3",
      "display_name": "Python 3"
    },
    "language_info": {
      "name": "python"
    }
  },
  "cells": [
    {
      "cell_type": "markdown",
      "source": [
        "# API de Cotações de Moedas"
      ],
      "metadata": {
        "id": "o0BtHY0Ibinn"
      }
    },
    {
      "cell_type": "code",
      "execution_count": 1,
      "metadata": {
        "id": "GSXTDbTh_Cta"
      },
      "outputs": [],
      "source": [
        "import requests\n",
        "import json\n",
        "import pandas as pd"
      ]
    },
    {
      "cell_type": "code",
      "source": [
        "moeda = input('Digite o tipo da moeda(dolar, euro, bitcoin):  ')\n",
        "moedas = ['dolar', 'euro', 'bitcoin']\n",
        "if moeda not in moedas:\n",
        "  print('ERROR! Digite dolar, euro ou bitcoin')\n",
        "else:\n",
        "  moeda = moeda.replace('dolar', 'USD-BRL') \n",
        "  moeda = moeda.replace('euro', 'EUR-BRL') \n",
        "  moeda = moeda.replace('bitcoin', 'BTC-BRL') \n",
        "\n",
        "print(moeda)"
      ],
      "metadata": {
        "colab": {
          "base_uri": "https://localhost:8080/"
        },
        "id": "VGgFOqi-bhOP",
        "outputId": "c9088e29-98b9-4bbb-c433-d6f5a5fe8754"
      },
      "execution_count": 105,
      "outputs": [
        {
          "output_type": "stream",
          "name": "stdout",
          "text": [
            "Digite o tipo da moeda(dolar, euro, bitcoin):  bitcoin\n",
            "BTC-BRL\n"
          ]
        }
      ]
    },
    {
      "cell_type": "code",
      "source": [
        "req = requests.get(f'https://economia.awesomeapi.com.br/last/{moeda}')\n",
        "req.json()"
      ],
      "metadata": {
        "colab": {
          "base_uri": "https://localhost:8080/"
        },
        "id": "1tRLYkBegByj",
        "outputId": "722bde37-8b43-4422-e6de-931b90b473c9"
      },
      "execution_count": 106,
      "outputs": [
        {
          "output_type": "execute_result",
          "data": {
            "text/plain": [
              "{'BTCBRL': {'code': 'BTC',\n",
              "  'codein': 'BRL',\n",
              "  'name': 'Bitcoin/Real Brasileiro',\n",
              "  'high': '121.763',\n",
              "  'low': '110.804',\n",
              "  'varBid': '-10463',\n",
              "  'pctChange': '-8.62',\n",
              "  'bid': '110.943',\n",
              "  'ask': '110.944',\n",
              "  'timestamp': '1660940745',\n",
              "  'create_date': '2022-08-19 17:25:45'}}"
            ]
          },
          "metadata": {},
          "execution_count": 106
        }
      ]
    },
    {
      "cell_type": "code",
      "source": [
        "cotacao = req.json()"
      ],
      "metadata": {
        "id": "W-C0md73lz84"
      },
      "execution_count": 107,
      "outputs": []
    },
    {
      "cell_type": "markdown",
      "source": [
        "# Cotação do EURO, DOLAR ou BITCOIN"
      ],
      "metadata": {
        "id": "N_TCgnSJtKoZ"
      }
    },
    {
      "cell_type": "code",
      "source": [
        "for v in cotacao.values():\n",
        "  print(f\"A cotação atual do {v['code']} em reais é R$ {v['bid']}\")\n",
        "\n",
        "# print(cotacao['EURBRL']['bid'])"
      ],
      "metadata": {
        "colab": {
          "base_uri": "https://localhost:8080/"
        },
        "id": "WBG-OTIdmJk2",
        "outputId": "d1f2fb64-952f-474c-ad62-4a67010cc15f"
      },
      "execution_count": 108,
      "outputs": [
        {
          "output_type": "stream",
          "name": "stdout",
          "text": [
            "A cotação atual do BTC em reais é R$ 110.943\n"
          ]
        }
      ]
    },
    {
      "cell_type": "markdown",
      "source": [
        "# Quanto(s) EURO/DOLAR/BITCOIN VALE EM REAIS?"
      ],
      "metadata": {
        "id": "ynbt7s1_tOn5"
      }
    },
    {
      "cell_type": "code",
      "source": [
        "valor = int(input('Quanto(s) em euro/dolar/bitcoin vale em reais? '))\n",
        "calc_cotacao = float(v['bid']) * valor "
      ],
      "metadata": {
        "colab": {
          "base_uri": "https://localhost:8080/"
        },
        "id": "vESn0rGHtYFt",
        "outputId": "7aeefb7a-b391-44f6-aaf7-273d735b594d"
      },
      "execution_count": 111,
      "outputs": [
        {
          "name": "stdout",
          "output_type": "stream",
          "text": [
            "Quanto(s) em euro/dolar/bitcoin vale em reais? 2\n"
          ]
        }
      ]
    },
    {
      "cell_type": "code",
      "source": [
        "print(f\"{calc_cotacao:.2f}\")"
      ],
      "metadata": {
        "colab": {
          "base_uri": "https://localhost:8080/"
        },
        "id": "X088hWLkwKGg",
        "outputId": "ebb4abd5-5491-4ea8-b50b-3f943e218fdb"
      },
      "execution_count": 113,
      "outputs": [
        {
          "output_type": "stream",
          "name": "stdout",
          "text": [
            "221.89\n"
          ]
        }
      ]
    }
  ]
}