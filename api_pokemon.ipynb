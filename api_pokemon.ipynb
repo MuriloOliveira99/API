{
 "cells": [
  {
   "cell_type": "markdown",
   "id": "e118528b",
   "metadata": {},
   "source": [
    "### ETL -> Extração, Transformação e Entrega de Dados"
   ]
  },
  {
   "cell_type": "markdown",
   "id": "ef6b23ae",
   "metadata": {},
   "source": [
    "========================================================"
   ]
  },
  {
   "cell_type": "code",
   "execution_count": 1,
   "id": "238e853e",
   "metadata": {},
   "outputs": [],
   "source": [
    "# Import da biblioteca request para fazer requisição\n",
    "import requests"
   ]
  },
  {
   "cell_type": "code",
   "execution_count": 3,
   "id": "513f9ea9",
   "metadata": {},
   "outputs": [],
   "source": [
    "# Obtendo a resposta da requisição\n",
    "resposta = requests.get('https://pokeapi.co/api/v2/pokemon/1')"
   ]
  },
  {
   "cell_type": "code",
   "execution_count": 4,
   "id": "f2f25c48",
   "metadata": {},
   "outputs": [
    {
     "data": {
      "text/plain": [
       "<Response [200]>"
      ]
     },
     "execution_count": 4,
     "metadata": {},
     "output_type": "execute_result"
    }
   ],
   "source": [
    "# Response 200 -> A requisição deu certo\n",
    "resposta"
   ]
  },
  {
   "cell_type": "code",
   "execution_count": null,
   "id": "4d3417ae",
   "metadata": {},
   "outputs": [],
   "source": [
    "# Retorna o JSON \n",
    "resposta.json()"
   ]
  },
  {
   "cell_type": "code",
   "execution_count": 19,
   "id": "df81c5b2",
   "metadata": {},
   "outputs": [],
   "source": [
    "# Armazenando o json em uma variável\n",
    "infos = resposta.json()"
   ]
  },
  {
   "cell_type": "code",
   "execution_count": 20,
   "id": "5080b4b1",
   "metadata": {},
   "outputs": [],
   "source": [
    "# Zerando algumas infos para uma melhor visualização\n",
    "infos['moves'] = ''\n",
    "infos['game_indices'] = ''\n",
    "infos['sprites'] = ''\n",
    "infos['stats'] = ''"
   ]
  },
  {
   "cell_type": "code",
   "execution_count": 21,
   "id": "8005f19c",
   "metadata": {},
   "outputs": [
    {
     "data": {
      "text/plain": [
       "{'abilities': [{'ability': {'name': 'overgrow',\n",
       "    'url': 'https://pokeapi.co/api/v2/ability/65/'},\n",
       "   'is_hidden': False,\n",
       "   'slot': 1},\n",
       "  {'ability': {'name': 'chlorophyll',\n",
       "    'url': 'https://pokeapi.co/api/v2/ability/34/'},\n",
       "   'is_hidden': True,\n",
       "   'slot': 3}],\n",
       " 'base_experience': 64,\n",
       " 'forms': [{'name': 'bulbasaur',\n",
       "   'url': 'https://pokeapi.co/api/v2/pokemon-form/1/'}],\n",
       " 'game_indices': '',\n",
       " 'height': 7,\n",
       " 'held_items': [],\n",
       " 'id': 1,\n",
       " 'is_default': True,\n",
       " 'location_area_encounters': 'https://pokeapi.co/api/v2/pokemon/1/encounters',\n",
       " 'moves': '',\n",
       " 'name': 'bulbasaur',\n",
       " 'order': 1,\n",
       " 'past_types': [],\n",
       " 'species': {'name': 'bulbasaur',\n",
       "  'url': 'https://pokeapi.co/api/v2/pokemon-species/1/'},\n",
       " 'sprites': '',\n",
       " 'stats': '',\n",
       " 'types': [{'slot': 1,\n",
       "   'type': {'name': 'grass', 'url': 'https://pokeapi.co/api/v2/type/12/'}},\n",
       "  {'slot': 2,\n",
       "   'type': {'name': 'poison', 'url': 'https://pokeapi.co/api/v2/type/4/'}}],\n",
       " 'weight': 69}"
      ]
     },
     "execution_count": 21,
     "metadata": {},
     "output_type": "execute_result"
    }
   ],
   "source": [
    "infos"
   ]
  },
  {
   "cell_type": "code",
   "execution_count": 24,
   "id": "99ba0d90",
   "metadata": {},
   "outputs": [],
   "source": [
    "# Função faz uma requisição pelo ID do pokemon e retorna a resposta de um pokemon\n",
    "def get_pokemon_by_id(id):\n",
    "    return requests.get(f'https://pokeapi.co/api/v2/pokemon/{id}')"
   ]
  },
  {
   "cell_type": "code",
   "execution_count": 25,
   "id": "16b046dc",
   "metadata": {},
   "outputs": [
    {
     "data": {
      "text/plain": [
       "<Response [200]>"
      ]
     },
     "execution_count": 25,
     "metadata": {},
     "output_type": "execute_result"
    }
   ],
   "source": [
    "get_pokemon_by_id(50)"
   ]
  },
  {
   "cell_type": "code",
   "execution_count": 27,
   "id": "4df1ec3e",
   "metadata": {},
   "outputs": [
    {
     "data": {
      "text/plain": [
       "[{'slot': 1,\n",
       "  'type': {'name': 'grass', 'url': 'https://pokeapi.co/api/v2/type/12/'}},\n",
       " {'slot': 2,\n",
       "  'type': {'name': 'poison', 'url': 'https://pokeapi.co/api/v2/type/4/'}}]"
      ]
     },
     "execution_count": 27,
     "metadata": {},
     "output_type": "execute_result"
    }
   ],
   "source": [
    "# Tipos do pokemon\n",
    "infos['types']"
   ]
  },
  {
   "cell_type": "code",
   "execution_count": 38,
   "id": "78c735cc",
   "metadata": {},
   "outputs": [],
   "source": [
    "# Função que retorna o tipos do pokemon\n",
    "def extrai_tipos(tipos):\n",
    "    tipo1 = tipos[0]['type']['name']\n",
    "    try: # Caso o pokemon não tenha 2 tipos, retorna none\n",
    "        tipo2 = tipos[1]['type']['name']\n",
    "    except IndexError:\n",
    "        tipo2 = None\n",
    "    return tipo1, tipo2"
   ]
  },
  {
   "cell_type": "code",
   "execution_count": 33,
   "id": "cbede890",
   "metadata": {},
   "outputs": [
    {
     "data": {
      "text/plain": [
       "('grass', 'poison')"
      ]
     },
     "execution_count": 33,
     "metadata": {},
     "output_type": "execute_result"
    }
   ],
   "source": [
    "extrai_tipos(infos['types'])"
   ]
  },
  {
   "cell_type": "code",
   "execution_count": 34,
   "id": "5aefe94a",
   "metadata": {},
   "outputs": [
    {
     "data": {
      "text/plain": [
       "<Response [200]>"
      ]
     },
     "execution_count": 34,
     "metadata": {},
     "output_type": "execute_result"
    }
   ],
   "source": [
    "# Pegando o ID do pokemon ditto\n",
    "ditto = get_pokemon_by_id(132)\n",
    "ditto"
   ]
  },
  {
   "cell_type": "code",
   "execution_count": null,
   "id": "fd186048",
   "metadata": {},
   "outputs": [],
   "source": [
    "# Retorna o JSON do pokemon ditto\n",
    "ditto.json()"
   ]
  },
  {
   "cell_type": "code",
   "execution_count": 39,
   "id": "998fb752",
   "metadata": {},
   "outputs": [
    {
     "data": {
      "text/plain": [
       "('normal', None)"
      ]
     },
     "execution_count": 39,
     "metadata": {},
     "output_type": "execute_result"
    }
   ],
   "source": [
    "# Extraindo o(s) tipo(s) do Pokemon ditto\n",
    "extrai_tipos(ditto.json()['types'])"
   ]
  },
  {
   "cell_type": "code",
   "execution_count": 41,
   "id": "125dddbe",
   "metadata": {},
   "outputs": [],
   "source": [
    "# Função que extrai todas as infos do pokemon e retorna um dicionário\n",
    "def extrai_infos_do_pokemon(resposta):\n",
    "    if resposta.status_code == 200:\n",
    "        infos = resposta.json()\n",
    "        id = infos['id']\n",
    "        altura = infos['height']\n",
    "        peso = infos['weight']\n",
    "        tipos = infos['types']\n",
    "        nome = infos['name']\n",
    "        imagem = infos['sprites']['front_default']\n",
    "        \n",
    "        # Retorna um dicionário\n",
    "        return {\n",
    "            'id': id,\n",
    "            'nome': nome,\n",
    "            'tipo1': extrai_tipos(tipos)[0],\n",
    "            'tipo2': extrai_tipos(tipos)[1],\n",
    "            'peso': peso,\n",
    "            'altura': altura,\n",
    "            'imagem': imagem\n",
    "       }\n",
    "    else:\n",
    "        # raise -> criar um erro\n",
    "        raise ValueError"
   ]
  },
  {
   "cell_type": "code",
   "execution_count": 43,
   "id": "a091efcc",
   "metadata": {},
   "outputs": [
    {
     "data": {
      "text/plain": [
       "{'id': 132,\n",
       " 'nome': 'ditto',\n",
       " 'tipo1': 'normal',\n",
       " 'tipo2': None,\n",
       " 'peso': 40,\n",
       " 'altura': 3,\n",
       " 'imagem': 'https://raw.githubusercontent.com/PokeAPI/sprites/master/sprites/pokemon/132.png'}"
      ]
     },
     "execution_count": 43,
     "metadata": {},
     "output_type": "execute_result"
    }
   ],
   "source": [
    "teste = extrai_infos_do_pokemon(ditto)\n",
    "teste"
   ]
  },
  {
   "cell_type": "code",
   "execution_count": 44,
   "id": "2de9adbf",
   "metadata": {},
   "outputs": [
    {
     "data": {
      "text/plain": [
       "{'id': 25,\n",
       " 'nome': 'pikachu',\n",
       " 'tipo1': 'electric',\n",
       " 'tipo2': None,\n",
       " 'peso': 60,\n",
       " 'altura': 4,\n",
       " 'imagem': 'https://raw.githubusercontent.com/PokeAPI/sprites/master/sprites/pokemon/25.png'}"
      ]
     },
     "execution_count": 44,
     "metadata": {},
     "output_type": "execute_result"
    }
   ],
   "source": [
    "# Pegando o ID do pikachu\n",
    "pikachu = get_pokemon_by_id(25)\n",
    "\n",
    "# Extraindo as infos do pikachu\n",
    "extrai_infos_do_pokemon(pikachu)"
   ]
  },
  {
   "cell_type": "markdown",
   "id": "e98cb13e",
   "metadata": {},
   "source": [
    "<img src='https://raw.githubusercontent.com/PokeAPI/sprites/master/sprites/pokemon/25.png'>"
   ]
  },
  {
   "cell_type": "code",
   "execution_count": 46,
   "id": "6cbc9335",
   "metadata": {},
   "outputs": [],
   "source": [
    "import pandas as pd"
   ]
  },
  {
   "cell_type": "code",
   "execution_count": 49,
   "id": "7252d00a",
   "metadata": {},
   "outputs": [
    {
     "data": {
      "text/html": [
       "<div>\n",
       "<style scoped>\n",
       "    .dataframe tbody tr th:only-of-type {\n",
       "        vertical-align: middle;\n",
       "    }\n",
       "\n",
       "    .dataframe tbody tr th {\n",
       "        vertical-align: top;\n",
       "    }\n",
       "\n",
       "    .dataframe thead th {\n",
       "        text-align: right;\n",
       "    }\n",
       "</style>\n",
       "<table border=\"1\" class=\"dataframe\">\n",
       "  <thead>\n",
       "    <tr style=\"text-align: right;\">\n",
       "      <th></th>\n",
       "      <th>id</th>\n",
       "      <th>nome</th>\n",
       "      <th>tipo1</th>\n",
       "      <th>tipo2</th>\n",
       "      <th>peso</th>\n",
       "      <th>altura</th>\n",
       "      <th>imagem</th>\n",
       "    </tr>\n",
       "  </thead>\n",
       "  <tbody>\n",
       "    <tr>\n",
       "      <th>0</th>\n",
       "      <td>25</td>\n",
       "      <td>pikachu</td>\n",
       "      <td>electric</td>\n",
       "      <td>None</td>\n",
       "      <td>60</td>\n",
       "      <td>4</td>\n",
       "      <td>https://raw.githubusercontent.com/PokeAPI/spri...</td>\n",
       "    </tr>\n",
       "  </tbody>\n",
       "</table>\n",
       "</div>"
      ],
      "text/plain": [
       "   id     nome     tipo1 tipo2  peso  altura  \\\n",
       "0  25  pikachu  electric  None    60       4   \n",
       "\n",
       "                                              imagem  \n",
       "0  https://raw.githubusercontent.com/PokeAPI/spri...  "
      ]
     },
     "execution_count": 49,
     "metadata": {},
     "output_type": "execute_result"
    }
   ],
   "source": [
    "pd.DataFrame([extrai_infos_do_pokemon(pikachu)])"
   ]
  },
  {
   "cell_type": "code",
   "execution_count": 50,
   "id": "c1e19b5a",
   "metadata": {},
   "outputs": [],
   "source": [
    "from random import randint"
   ]
  },
  {
   "cell_type": "code",
   "execution_count": 51,
   "id": "f1b6afbc",
   "metadata": {},
   "outputs": [
    {
     "data": {
      "text/plain": [
       "24"
      ]
     },
     "execution_count": 51,
     "metadata": {},
     "output_type": "execute_result"
    }
   ],
   "source": [
    "randint(1, 151)"
   ]
  },
  {
   "cell_type": "code",
   "execution_count": 52,
   "id": "08bf8652",
   "metadata": {},
   "outputs": [],
   "source": [
    "# Função para gerar lista de pokemons aleatória\n",
    "def gera_lista_de_pokemons():\n",
    "    lista = []\n",
    "    for pokemon in range(6):\n",
    "        lista.append(randint(1, 151))\n",
    "    return lista"
   ]
  },
  {
   "cell_type": "code",
   "execution_count": 53,
   "id": "31d2e35c",
   "metadata": {},
   "outputs": [
    {
     "data": {
      "text/plain": [
       "[97, 133, 11, 40, 16, 135]"
      ]
     },
     "execution_count": 53,
     "metadata": {},
     "output_type": "execute_result"
    }
   ],
   "source": [
    "gera_lista_de_pokemons()"
   ]
  },
  {
   "cell_type": "code",
   "execution_count": 54,
   "id": "e07e53d5",
   "metadata": {},
   "outputs": [],
   "source": [
    "# Função que cria um time de pokemons\n",
    "def cria_meu_time_de_pokemons():\n",
    "    ids_pokemons = gera_lista_de_pokemons()\n",
    "    lista_pokemons = []\n",
    "    for id in ids_pokemons:\n",
    "        resposta_api = get_pokemon_by_id(id)\n",
    "        pokemon = extrai_infos_do_pokemon(resposta_api)\n",
    "        lista_pokemons.append(pokemon)\n",
    "    pokemon_data_drame = pd.DataFrame(lista_pokemons)\n",
    "    return pokemon_data_drame"
   ]
  },
  {
   "cell_type": "code",
   "execution_count": 57,
   "id": "752fced5",
   "metadata": {},
   "outputs": [
    {
     "data": {
      "text/html": [
       "<div>\n",
       "<style scoped>\n",
       "    .dataframe tbody tr th:only-of-type {\n",
       "        vertical-align: middle;\n",
       "    }\n",
       "\n",
       "    .dataframe tbody tr th {\n",
       "        vertical-align: top;\n",
       "    }\n",
       "\n",
       "    .dataframe thead th {\n",
       "        text-align: right;\n",
       "    }\n",
       "</style>\n",
       "<table border=\"1\" class=\"dataframe\">\n",
       "  <thead>\n",
       "    <tr style=\"text-align: right;\">\n",
       "      <th></th>\n",
       "      <th>id</th>\n",
       "      <th>nome</th>\n",
       "      <th>tipo1</th>\n",
       "      <th>tipo2</th>\n",
       "      <th>peso</th>\n",
       "      <th>altura</th>\n",
       "      <th>imagem</th>\n",
       "    </tr>\n",
       "  </thead>\n",
       "  <tbody>\n",
       "    <tr>\n",
       "      <th>0</th>\n",
       "      <td>60</td>\n",
       "      <td>poliwag</td>\n",
       "      <td>water</td>\n",
       "      <td>None</td>\n",
       "      <td>124</td>\n",
       "      <td>6</td>\n",
       "      <td>https://raw.githubusercontent.com/PokeAPI/spri...</td>\n",
       "    </tr>\n",
       "    <tr>\n",
       "      <th>1</th>\n",
       "      <td>100</td>\n",
       "      <td>voltorb</td>\n",
       "      <td>electric</td>\n",
       "      <td>None</td>\n",
       "      <td>104</td>\n",
       "      <td>5</td>\n",
       "      <td>https://raw.githubusercontent.com/PokeAPI/spri...</td>\n",
       "    </tr>\n",
       "    <tr>\n",
       "      <th>2</th>\n",
       "      <td>133</td>\n",
       "      <td>eevee</td>\n",
       "      <td>normal</td>\n",
       "      <td>None</td>\n",
       "      <td>65</td>\n",
       "      <td>3</td>\n",
       "      <td>https://raw.githubusercontent.com/PokeAPI/spri...</td>\n",
       "    </tr>\n",
       "    <tr>\n",
       "      <th>3</th>\n",
       "      <td>97</td>\n",
       "      <td>hypno</td>\n",
       "      <td>psychic</td>\n",
       "      <td>None</td>\n",
       "      <td>756</td>\n",
       "      <td>16</td>\n",
       "      <td>https://raw.githubusercontent.com/PokeAPI/spri...</td>\n",
       "    </tr>\n",
       "    <tr>\n",
       "      <th>4</th>\n",
       "      <td>80</td>\n",
       "      <td>slowbro</td>\n",
       "      <td>water</td>\n",
       "      <td>psychic</td>\n",
       "      <td>785</td>\n",
       "      <td>16</td>\n",
       "      <td>https://raw.githubusercontent.com/PokeAPI/spri...</td>\n",
       "    </tr>\n",
       "    <tr>\n",
       "      <th>5</th>\n",
       "      <td>55</td>\n",
       "      <td>golduck</td>\n",
       "      <td>water</td>\n",
       "      <td>None</td>\n",
       "      <td>766</td>\n",
       "      <td>17</td>\n",
       "      <td>https://raw.githubusercontent.com/PokeAPI/spri...</td>\n",
       "    </tr>\n",
       "  </tbody>\n",
       "</table>\n",
       "</div>"
      ],
      "text/plain": [
       "    id     nome     tipo1    tipo2  peso  altura  \\\n",
       "0   60  poliwag     water     None   124       6   \n",
       "1  100  voltorb  electric     None   104       5   \n",
       "2  133    eevee    normal     None    65       3   \n",
       "3   97    hypno   psychic     None   756      16   \n",
       "4   80  slowbro     water  psychic   785      16   \n",
       "5   55  golduck     water     None   766      17   \n",
       "\n",
       "                                              imagem  \n",
       "0  https://raw.githubusercontent.com/PokeAPI/spri...  \n",
       "1  https://raw.githubusercontent.com/PokeAPI/spri...  \n",
       "2  https://raw.githubusercontent.com/PokeAPI/spri...  \n",
       "3  https://raw.githubusercontent.com/PokeAPI/spri...  \n",
       "4  https://raw.githubusercontent.com/PokeAPI/spri...  \n",
       "5  https://raw.githubusercontent.com/PokeAPI/spri...  "
      ]
     },
     "execution_count": 57,
     "metadata": {},
     "output_type": "execute_result"
    }
   ],
   "source": [
    "# CRIANDO UM TIME DE POKEMONS ALEATÒRIO\n",
    "time_murilo = cria_meu_time_de_pokemons()\n",
    "time_murilo"
   ]
  },
  {
   "cell_type": "code",
   "execution_count": 62,
   "id": "14e3c957",
   "metadata": {},
   "outputs": [],
   "source": [
    "time_murilo.to_csv('time_murilo.csv')"
   ]
  },
  {
   "cell_type": "code",
   "execution_count": null,
   "id": "f9747499",
   "metadata": {},
   "outputs": [],
   "source": []
  }
 ],
 "metadata": {
  "kernelspec": {
   "display_name": "Python 3 (ipykernel)",
   "language": "python",
   "name": "python3"
  },
  "language_info": {
   "codemirror_mode": {
    "name": "ipython",
    "version": 3
   },
   "file_extension": ".py",
   "mimetype": "text/x-python",
   "name": "python",
   "nbconvert_exporter": "python",
   "pygments_lexer": "ipython3",
   "version": "3.9.7"
  }
 },
 "nbformat": 4,
 "nbformat_minor": 5
}
