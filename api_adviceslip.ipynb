{
  "nbformat": 4,
  "nbformat_minor": 0,
  "metadata": {
    "colab": {
      "name": "api_adviceslip.ipynb",
      "provenance": [],
      "collapsed_sections": []
    },
    "kernelspec": {
      "name": "python3",
      "display_name": "Python 3"
    },
    "language_info": {
      "name": "python"
    }
  },
  "cells": [
    {
      "cell_type": "markdown",
      "source": [
        "# API Advice Slip\n",
        "<p>Retorna um conselho</p>"
      ],
      "metadata": {
        "id": "-DFafWHGjJDz"
      }
    },
    {
      "cell_type": "code",
      "source": [
        "!pip install py_trans"
      ],
      "metadata": {
        "id": "ZCu1w7SRtj3s"
      },
      "execution_count": null,
      "outputs": []
    },
    {
      "cell_type": "code",
      "source": [
        "!pip install fake_useragent"
      ],
      "metadata": {
        "id": "k2kMf6gJtxDy"
      },
      "execution_count": null,
      "outputs": []
    },
    {
      "cell_type": "code",
      "execution_count": 61,
      "metadata": {
        "id": "WRsyMgWjjE6x"
      },
      "outputs": [],
      "source": [
        "import pandas as pd\n",
        "import requests\n",
        "import json\n",
        "from py_trans import PyTranslator"
      ]
    },
    {
      "cell_type": "code",
      "source": [
        "def gerar_conselhos(qtd_conselhos):\n",
        "  url = 'https://api.adviceslip.com/advice'\n",
        "  for i in range(qtd_conselhos):\n",
        "    response = requests.get(url)\n",
        "    advs = response.json()['slip']\n",
        "    tradutor = PyTranslator()\n",
        "    traduzir = tradutor.translate(advs['advice'], \"pt\")\n",
        "    conselho_traduzido = traduzir['translation']\n",
        "\n",
        "    lista_conselhos.append(conselho_traduzido)\n",
        "    # print(conselho_traduzido)\n",
        "\n",
        "lista_conselhos = []\n",
        "qtd_conselhos = int(input('Quantos conselhos você deseja receber? '))\n",
        "gerar_conselhos(qtd_conselhos)\n",
        "print(lista_conselhos)"
      ],
      "metadata": {
        "colab": {
          "base_uri": "https://localhost:8080/"
        },
        "id": "8tKQcaikjnmM",
        "outputId": "5d4fe0d1-ae0e-46b6-e322-aa698d58d7fc"
      },
      "execution_count": 110,
      "outputs": [
        {
          "output_type": "stream",
          "name": "stdout",
          "text": [
            "Quantos conselhos você deseja receber? 10\n",
            "['Quando algo dá errado na vida, basta gritar \"Twist!\" e continua.', 'O mais importante é a coisa mais facilmente esquecida.', 'Se você tem avós ou pais - converse mais com eles. Pergunte a eles sobre suas experiências de vida.', 'Não há razão para acreditar que o vinho branco é diferente da água quando se trata de remover manchas de vinho tinto.', 'Você sempre se arrependerá da rodada de tequila.', 'Respeite as opiniões de outras pessoas, mesmo quando elas diferem da sua.', 'De vez em quando, coma alguns doces que você costumava desfrutar quando era mais jovem.', 'O que está parando você?', 'Nunca nomeie arquivos ou pastas usando a palavra \"final\".', 'As coisas boas vêm para aqueles que esperam.']\n"
          ]
        }
      ]
    },
    {
      "cell_type": "code",
      "source": [
        "df = pd.DataFrame(lista_conselhos, columns={'Conselhos'})\n",
        "df.head()"
      ],
      "metadata": {
        "colab": {
          "base_uri": "https://localhost:8080/",
          "height": 206
        },
        "id": "7x8vfpqF2Exp",
        "outputId": "a870bec5-9fed-47f8-866b-eac16503b4ba"
      },
      "execution_count": 111,
      "outputs": [
        {
          "output_type": "execute_result",
          "data": {
            "text/plain": [
              "                                           Conselhos\n",
              "0  Quando algo dá errado na vida, basta gritar \"T...\n",
              "1  O mais importante é a coisa mais facilmente es...\n",
              "2  Se você tem avós ou pais - converse mais com e...\n",
              "3  Não há razão para acreditar que o vinho branco...\n",
              "4   Você sempre se arrependerá da rodada de tequila."
            ],
            "text/html": [
              "\n",
              "  <div id=\"df-1be0d0bc-4694-4d1b-a821-bf2b8724b666\">\n",
              "    <div class=\"colab-df-container\">\n",
              "      <div>\n",
              "<style scoped>\n",
              "    .dataframe tbody tr th:only-of-type {\n",
              "        vertical-align: middle;\n",
              "    }\n",
              "\n",
              "    .dataframe tbody tr th {\n",
              "        vertical-align: top;\n",
              "    }\n",
              "\n",
              "    .dataframe thead th {\n",
              "        text-align: right;\n",
              "    }\n",
              "</style>\n",
              "<table border=\"1\" class=\"dataframe\">\n",
              "  <thead>\n",
              "    <tr style=\"text-align: right;\">\n",
              "      <th></th>\n",
              "      <th>Conselhos</th>\n",
              "    </tr>\n",
              "  </thead>\n",
              "  <tbody>\n",
              "    <tr>\n",
              "      <th>0</th>\n",
              "      <td>Quando algo dá errado na vida, basta gritar \"T...</td>\n",
              "    </tr>\n",
              "    <tr>\n",
              "      <th>1</th>\n",
              "      <td>O mais importante é a coisa mais facilmente es...</td>\n",
              "    </tr>\n",
              "    <tr>\n",
              "      <th>2</th>\n",
              "      <td>Se você tem avós ou pais - converse mais com e...</td>\n",
              "    </tr>\n",
              "    <tr>\n",
              "      <th>3</th>\n",
              "      <td>Não há razão para acreditar que o vinho branco...</td>\n",
              "    </tr>\n",
              "    <tr>\n",
              "      <th>4</th>\n",
              "      <td>Você sempre se arrependerá da rodada de tequila.</td>\n",
              "    </tr>\n",
              "  </tbody>\n",
              "</table>\n",
              "</div>\n",
              "      <button class=\"colab-df-convert\" onclick=\"convertToInteractive('df-1be0d0bc-4694-4d1b-a821-bf2b8724b666')\"\n",
              "              title=\"Convert this dataframe to an interactive table.\"\n",
              "              style=\"display:none;\">\n",
              "        \n",
              "  <svg xmlns=\"http://www.w3.org/2000/svg\" height=\"24px\"viewBox=\"0 0 24 24\"\n",
              "       width=\"24px\">\n",
              "    <path d=\"M0 0h24v24H0V0z\" fill=\"none\"/>\n",
              "    <path d=\"M18.56 5.44l.94 2.06.94-2.06 2.06-.94-2.06-.94-.94-2.06-.94 2.06-2.06.94zm-11 1L8.5 8.5l.94-2.06 2.06-.94-2.06-.94L8.5 2.5l-.94 2.06-2.06.94zm10 10l.94 2.06.94-2.06 2.06-.94-2.06-.94-.94-2.06-.94 2.06-2.06.94z\"/><path d=\"M17.41 7.96l-1.37-1.37c-.4-.4-.92-.59-1.43-.59-.52 0-1.04.2-1.43.59L10.3 9.45l-7.72 7.72c-.78.78-.78 2.05 0 2.83L4 21.41c.39.39.9.59 1.41.59.51 0 1.02-.2 1.41-.59l7.78-7.78 2.81-2.81c.8-.78.8-2.07 0-2.86zM5.41 20L4 18.59l7.72-7.72 1.47 1.35L5.41 20z\"/>\n",
              "  </svg>\n",
              "      </button>\n",
              "      \n",
              "  <style>\n",
              "    .colab-df-container {\n",
              "      display:flex;\n",
              "      flex-wrap:wrap;\n",
              "      gap: 12px;\n",
              "    }\n",
              "\n",
              "    .colab-df-convert {\n",
              "      background-color: #E8F0FE;\n",
              "      border: none;\n",
              "      border-radius: 50%;\n",
              "      cursor: pointer;\n",
              "      display: none;\n",
              "      fill: #1967D2;\n",
              "      height: 32px;\n",
              "      padding: 0 0 0 0;\n",
              "      width: 32px;\n",
              "    }\n",
              "\n",
              "    .colab-df-convert:hover {\n",
              "      background-color: #E2EBFA;\n",
              "      box-shadow: 0px 1px 2px rgba(60, 64, 67, 0.3), 0px 1px 3px 1px rgba(60, 64, 67, 0.15);\n",
              "      fill: #174EA6;\n",
              "    }\n",
              "\n",
              "    [theme=dark] .colab-df-convert {\n",
              "      background-color: #3B4455;\n",
              "      fill: #D2E3FC;\n",
              "    }\n",
              "\n",
              "    [theme=dark] .colab-df-convert:hover {\n",
              "      background-color: #434B5C;\n",
              "      box-shadow: 0px 1px 3px 1px rgba(0, 0, 0, 0.15);\n",
              "      filter: drop-shadow(0px 1px 2px rgba(0, 0, 0, 0.3));\n",
              "      fill: #FFFFFF;\n",
              "    }\n",
              "  </style>\n",
              "\n",
              "      <script>\n",
              "        const buttonEl =\n",
              "          document.querySelector('#df-1be0d0bc-4694-4d1b-a821-bf2b8724b666 button.colab-df-convert');\n",
              "        buttonEl.style.display =\n",
              "          google.colab.kernel.accessAllowed ? 'block' : 'none';\n",
              "\n",
              "        async function convertToInteractive(key) {\n",
              "          const element = document.querySelector('#df-1be0d0bc-4694-4d1b-a821-bf2b8724b666');\n",
              "          const dataTable =\n",
              "            await google.colab.kernel.invokeFunction('convertToInteractive',\n",
              "                                                     [key], {});\n",
              "          if (!dataTable) return;\n",
              "\n",
              "          const docLinkHtml = 'Like what you see? Visit the ' +\n",
              "            '<a target=\"_blank\" href=https://colab.research.google.com/notebooks/data_table.ipynb>data table notebook</a>'\n",
              "            + ' to learn more about interactive tables.';\n",
              "          element.innerHTML = '';\n",
              "          dataTable['output_type'] = 'display_data';\n",
              "          await google.colab.output.renderOutput(dataTable, element);\n",
              "          const docLink = document.createElement('div');\n",
              "          docLink.innerHTML = docLinkHtml;\n",
              "          element.appendChild(docLink);\n",
              "        }\n",
              "      </script>\n",
              "    </div>\n",
              "  </div>\n",
              "  "
            ]
          },
          "metadata": {},
          "execution_count": 111
        }
      ]
    },
    {
      "cell_type": "code",
      "source": [
        "df.to_excel('conselhos.xlsx', index = False)"
      ],
      "metadata": {
        "id": "CTWHv2UT4YPf"
      },
      "execution_count": 105,
      "outputs": []
    }
  ]
}